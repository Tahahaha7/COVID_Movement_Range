{
 "cells": [
  {
   "cell_type": "markdown",
   "metadata": {},
   "source": [
    "# Movement Range Maps Algeria"
   ]
  },
  {
   "cell_type": "code",
   "execution_count": null,
   "metadata": {},
   "outputs": [],
   "source": [
    "import numpy as np\n",
    "import pandas as pd\n",
    "from ipywidgets import interact, Dropdown\n",
    "import matplotlib.pyplot as plt\n",
    "import geopandas as gpd\n",
    "import plotly.offline as py\n",
    "import plotly.graph_objs as go\n",
    "import mplleaflet, warnings\n",
    "import datetime\n",
    "\n",
    "warnings.simplefilter(action='ignore', category=UserWarning)\n",
    "%matplotlib inline"
   ]
  },
  {
   "cell_type": "code",
   "execution_count": null,
   "metadata": {},
   "outputs": [],
   "source": [
    "'''\n",
    "Goal:\n",
    "have every single major city represented with a time slider that shows\n",
    "the change in relative mobility for the month of March, April, May, June, and July\n",
    "\n",
    "Further offers to use this dataset against the COVID-19 records and the policies implimented.\n",
    "Work can be carried away with other people that have already invested into COVID related topics in Algeria.\n",
    "\n",
    "Source: https://dataforgood.fb.com/tools/movement-range-maps/\n",
    "''';"
   ]
  },
  {
   "cell_type": "code",
   "execution_count": null,
   "metadata": {},
   "outputs": [],
   "source": [
    "np.unique(data.country)"
   ]
  },
  {
   "cell_type": "code",
   "execution_count": null,
   "metadata": {},
   "outputs": [],
   "source": [
    "link = 'C:/Users/Taha/Desktop/Facebook Algeria/Movement Range Maps/movement-range-2020-07-29.txt'\n",
    "data = pd.read_csv(link, delimiter=\"\\t\", low_memory=False);"
   ]
  },
  {
   "cell_type": "code",
   "execution_count": null,
   "metadata": {},
   "outputs": [],
   "source": [
    "algeria = data[data.country=='DZA']\n",
    "algeria = algeria.reset_index(drop=True)\n",
    "algeria['ds'] = pd.to_datetime(algeria['ds'])"
   ]
  },
  {
   "cell_type": "code",
   "execution_count": null,
   "metadata": {},
   "outputs": [],
   "source": [
    "name = Dropdown(options = np.unique(algeria['polygon_name']))\n",
    "@interact(Region = name)\n",
    "def plot_movement(Region):\n",
    "    fig = go.Figure()\n",
    "    fig.add_trace(go.Scatter(x=algeria[algeria.polygon_name==Region].ds,\n",
    "                             y=algeria[algeria.polygon_name==Region]\\\n",
    "                             .all_day_bing_tiles_visited_relative_change, \n",
    "                             mode='lines+markers', name='Relative Change'))\n",
    "    \n",
    "    fig.add_trace(go.Scatter(x=algeria[algeria.polygon_name==Region].ds,\n",
    "                             y=algeria[algeria.polygon_name==Region]\\\n",
    "                             .all_day_ratio_single_tile_users, \n",
    "                             mode='lines+markers', name='Stay Put Ratio'))\n",
    "    fig.show()"
   ]
  },
  {
   "cell_type": "code",
   "execution_count": null,
   "metadata": {},
   "outputs": [],
   "source": [
    "len(np.unique(algeria.polygon_id))"
   ]
  },
  {
   "cell_type": "code",
   "execution_count": null,
   "metadata": {},
   "outputs": [],
   "source": [
    "'''\n",
    "https://gadm.org/download_country_v3.html\n",
    "'''\n",
    "polygons = gpd.read_file('C:/Users/Taha/Desktop/Facebook Algeria/GADM v3.6/gadm36_DZA_2.shp')\n",
    "borders = gpd.read_file('C:/Users/Taha/Desktop/Facebook Algeria/GADM v3.6/gadm36_DZA_0.shp')"
   ]
  },
  {
   "cell_type": "code",
   "execution_count": null,
   "metadata": {},
   "outputs": [],
   "source": [
    "polygons = polygons[polygons['GID_2'].isin(np.unique(algeria.polygon_id))]"
   ]
  },
  {
   "cell_type": "code",
   "execution_count": null,
   "metadata": {},
   "outputs": [],
   "source": [
    "fig, ax = plt.subplots(figsize=(15, 10))\n",
    "ax.set_aspect('equal')\n",
    "borders.plot(ax=ax, color='white', edgecolor='black')\n",
    "polygons.plot(ax=ax, cmap='plasma', column='GID_2')\n",
    "plt.show()"
   ]
  },
  {
   "cell_type": "code",
   "execution_count": null,
   "metadata": {},
   "outputs": [],
   "source": [
    "np.unique(polygons.NAME_1)"
   ]
  },
  {
   "cell_type": "markdown",
   "metadata": {},
   "source": [
    "# Algiers"
   ]
  },
  {
   "cell_type": "code",
   "execution_count": null,
   "metadata": {},
   "outputs": [],
   "source": [
    "mydict = dict(zip(polygons.GID_2, polygons.geometry))\n",
    "states = dict(zip(polygons.GID_2, polygons.NAME_1))\n",
    "algeria['geometry'] = [mydict.get(i) for i in algeria.polygon_id]\n",
    "algeria['state'] = [states.get(i) for i in algeria.polygon_id]"
   ]
  },
  {
   "cell_type": "code",
   "execution_count": null,
   "metadata": {},
   "outputs": [],
   "source": [
    "algiers = algeria[algeria.state == 'Alger']"
   ]
  },
  {
   "cell_type": "code",
   "execution_count": null,
   "metadata": {},
   "outputs": [],
   "source": [
    "sort_algiers = algiers.sort_values(by='ds')\n",
    "sort_algiers = gpd.GeoDataFrame(sort_algiers)"
   ]
  },
  {
   "cell_type": "code",
   "execution_count": null,
   "metadata": {},
   "outputs": [],
   "source": [
    "sort_algiers[:26].plot(cmap='hot', figsize=(15, 7), edgecolor='black',\n",
    "                       column='all_day_bing_tiles_visited_relative_change')\n",
    "mplleaflet.display()"
   ]
  },
  {
   "cell_type": "markdown",
   "metadata": {},
   "source": [
    "# Movement Plots Algeria"
   ]
  },
  {
   "cell_type": "code",
   "execution_count": null,
   "metadata": {},
   "outputs": [],
   "source": [
    "import chart_studio\n",
    "username = 'ta.hahaha7'\n",
    "api_key = '2wgpWm1V2higObS7SKtE'\n",
    "chart_studio.tools.set_credentials_file(username=username, api_key=api_key)\n",
    "import chart_studio.plotly as pycs"
   ]
  },
  {
   "cell_type": "code",
   "execution_count": null,
   "metadata": {},
   "outputs": [],
   "source": [
    "np.unique(algeria[algeria.state=='Alger']['polygon_name'])"
   ]
  },
  {
   "cell_type": "code",
   "execution_count": null,
   "metadata": {},
   "outputs": [],
   "source": [
    "to_show = ['Kouba', 'Tessala-El-Merdja', 'Dar El Beida']\n",
    "import plotly.graph_objects as go\n",
    "fig = go.Figure()\n",
    "for Region in np.unique(algeria[algeria.state=='Alger']['polygon_name']):\n",
    "    if Region in to_show:\n",
    "        fig.add_trace(go.Scatter(\n",
    "            x=algeria[algeria.state=='Alger'][algeria[algeria.state=='Alger'].polygon_name==Region].ds,\n",
    "            y=algeria[algeria.state=='Alger'][algeria[algeria.state=='Alger'].polygon_name==Region]\\\n",
    "            .all_day_bing_tiles_visited_relative_change, mode='lines+markers', name=str(Region)))\n",
    "    else:             \n",
    "        fig.add_trace(go.Scatter(\n",
    "            x=algeria[algeria.state=='Alger'][algeria[algeria.state=='Alger'].polygon_name==Region].ds,\n",
    "            y=algeria[algeria.state=='Alger'][algeria[algeria.state=='Alger'].polygon_name==Region]\\\n",
    "            .all_day_bing_tiles_visited_relative_change, \n",
    "            mode='lines+markers', name=str(Region), visible='legendonly'))\n",
    "\n",
    "fig.update_layout(title='Movement Range during COVID outbreak<br>City of Algiers', xaxis_title='Time', \n",
    "                   yaxis_title='Percentage Change', legend_title=\"<b>Municipalities</b>\",)\n",
    "pycs.plot(fig, auto_open=False)\n",
    "#fig.show()"
   ]
  },
  {
   "cell_type": "markdown",
   "metadata": {},
   "source": [
    "# Movement Map Algeria"
   ]
  },
  {
   "cell_type": "code",
   "execution_count": null,
   "metadata": {},
   "outputs": [],
   "source": [
    "import branca.colormap as cm\n",
    "sort_algeria = algeria.sort_values(by='ds')\n",
    "sort_algeria = gpd.GeoDataFrame(sort_algeria)"
   ]
  },
  {
   "cell_type": "code",
   "execution_count": null,
   "metadata": {},
   "outputs": [],
   "source": [
    "cleaned_sort_algeria = sort_algeria[['ds', 'polygon_name', 'geometry',\n",
    "                                     'all_day_bing_tiles_visited_relative_change']]\n",
    "cleaned_sort_algeria = cleaned_sort_algeria.reset_index(drop=True)\n",
    "cleaned_sort_algeria['ds'] = pd.to_datetime(cleaned_sort_algeria['ds'].values).astype(int) / 10**9\n",
    "cleaned_sort_algeria['ds'] = cleaned_sort_algeria['ds'].astype(int).astype(str)"
   ]
  },
  {
   "cell_type": "code",
   "execution_count": null,
   "metadata": {},
   "outputs": [],
   "source": [
    "max_colour = max(cleaned_sort_algeria['all_day_bing_tiles_visited_relative_change'])\n",
    "min_colour = min(cleaned_sort_algeria['all_day_bing_tiles_visited_relative_change'])\n",
    "cmap = cm.linear.YlOrRd_09.scale(min_colour, max_colour)\n",
    "cleaned_sort_algeria['colour'] = cleaned_sort_algeria['all_day_bing_tiles_visited_relative_change'].map(cmap)"
   ]
  },
  {
   "cell_type": "code",
   "execution_count": null,
   "metadata": {},
   "outputs": [],
   "source": [
    "county_list = cleaned_sort_algeria['polygon_name'].unique().tolist()\n",
    "county_idx = range(len(county_list))\n",
    "\n",
    "style_dict = {}\n",
    "for i in county_idx:\n",
    "    county = county_list[i]\n",
    "    result = cleaned_sort_algeria[cleaned_sort_algeria['polygon_name'] == county]\n",
    "    inner_dict = {}\n",
    "    for _, r in result.iterrows():\n",
    "        inner_dict[r['ds']] = {'color': r['colour'], 'opacity': 0.7}\n",
    "    style_dict[str(i)] = inner_dict"
   ]
  },
  {
   "cell_type": "code",
   "execution_count": null,
   "metadata": {},
   "outputs": [],
   "source": [
    "counties_df = cleaned_sort_algeria[['geometry']]\n",
    "counties_gdf = gpd.GeoDataFrame(counties_df)\n",
    "counties_gdf = counties_gdf.drop_duplicates().reset_index()"
   ]
  },
  {
   "cell_type": "code",
   "execution_count": null,
   "metadata": {},
   "outputs": [],
   "source": [
    "slider_map = folium.Map(max_bounds=True, tiles='cartodbpositron', height=500,\n",
    "                        control_scale=True, location=[36.710139, 3.109861], zoom_start=7)\n",
    "\n",
    "_ = TimeSliderChoropleth(\n",
    "    data = counties_gdf.to_json(),\n",
    "    styledict = style_dict,\n",
    ").add_to(slider_map)\n",
    "\n",
    "_ = cmap.add_to(slider_map)\n",
    "cmap.caption = \"Percentage Change in Movement\"\n",
    "\n",
    "slider_map"
   ]
  },
  {
   "cell_type": "markdown",
   "metadata": {},
   "source": [
    "# Worldwide"
   ]
  },
  {
   "cell_type": "code",
   "execution_count": null,
   "metadata": {},
   "outputs": [],
   "source": [
    "data.columns"
   ]
  },
  {
   "cell_type": "code",
   "execution_count": null,
   "metadata": {},
   "outputs": [],
   "source": [
    "# South Africa\n",
    "sa = data[data.country=='ZAF']\n",
    "sa = sa.reset_index(drop=True)\n",
    "sa['ds'] = pd.to_datetime(sa['ds'])"
   ]
  },
  {
   "cell_type": "code",
   "execution_count": null,
   "metadata": {},
   "outputs": [],
   "source": [
    "sa_polygons = gpd.read_file('C:/Users/Taha/Desktop/Facebook Algeria/GADM v3.6/gadm36_ZAF_2.shp')"
   ]
  },
  {
   "cell_type": "code",
   "execution_count": null,
   "metadata": {},
   "outputs": [],
   "source": [
    "sa_polygons = sa_polygons[sa_polygons['GID_2'].isin(np.unique(sa.polygon_id))]"
   ]
  },
  {
   "cell_type": "code",
   "execution_count": null,
   "metadata": {},
   "outputs": [],
   "source": [
    "mydict = dict(zip(sa_polygons.GID_2, sa_polygons.geometry))\n",
    "states = dict(zip(sa_polygons.GID_2, sa_polygons.NAME_1))\n",
    "sa['geometry'] = [mydict.get(i) for i in sa.polygon_id]\n",
    "sa['state'] = [states.get(i) for i in sa.polygon_id]"
   ]
  },
  {
   "cell_type": "code",
   "execution_count": null,
   "metadata": {},
   "outputs": [],
   "source": [
    "sort_sa = sa.sort_values(by='ds')\n",
    "sort_sa = gpd.GeoDataFrame(sort_sa)"
   ]
  },
  {
   "cell_type": "code",
   "execution_count": null,
   "metadata": {},
   "outputs": [],
   "source": [
    "cleaned_sort_sa = sort_sa[['ds', 'polygon_name', 'geometry',\n",
    "                           'all_day_bing_tiles_visited_relative_change']]\n",
    "cleaned_sort_sa = cleaned_sort_sa.reset_index(drop=True)\n",
    "cleaned_sort_sa['ds'] = pd.to_datetime(cleaned_sort_sa['ds'].values).astype(int) / 10**9\n",
    "cleaned_sort_sa['ds'] = cleaned_sort_sa['ds'].astype(int).astype(str)"
   ]
  },
  {
   "cell_type": "code",
   "execution_count": null,
   "metadata": {},
   "outputs": [],
   "source": [
    "max_colour = max(cleaned_sort_sa['all_day_bing_tiles_visited_relative_change'])\n",
    "min_colour = min(cleaned_sort_sa['all_day_bing_tiles_visited_relative_change'])\n",
    "cmap = cm.linear.YlOrRd_09.scale(min_colour, max_colour)\n",
    "cleaned_sort_sa['colour'] = cleaned_sort_sa['all_day_bing_tiles_visited_relative_change'].map(cmap)"
   ]
  },
  {
   "cell_type": "code",
   "execution_count": null,
   "metadata": {},
   "outputs": [],
   "source": [
    "county_list = cleaned_sort_sa['polygon_name'].unique().tolist()\n",
    "county_idx = range(len(county_list))\n",
    "\n",
    "style_dict = {}\n",
    "for i in county_idx:\n",
    "    county = county_list[i]\n",
    "    result = cleaned_sort_sa[cleaned_sort_sa['polygon_name'] == county]\n",
    "    inner_dict = {}\n",
    "    for _, r in result.iterrows():\n",
    "        inner_dict[r['ds']] = {'color': r['colour'], 'opacity': 0.7}\n",
    "    style_dict[str(i)] = inner_dict"
   ]
  },
  {
   "cell_type": "code",
   "execution_count": null,
   "metadata": {},
   "outputs": [],
   "source": [
    "counties_df = cleaned_sort_sa[['geometry']]\n",
    "counties_gdf = gpd.GeoDataFrame(counties_df)\n",
    "counties_gdf = counties_gdf.drop_duplicates().reset_index()"
   ]
  },
  {
   "cell_type": "code",
   "execution_count": null,
   "metadata": {},
   "outputs": [],
   "source": [
    "slider_map = folium.Map(max_bounds=True, tiles='cartodbpositron', height=500,\n",
    "                        control_scale=True, location=[-26.270760, 28.112268], zoom_start=7)\n",
    "\n",
    "_ = TimeSliderChoropleth(\n",
    "    data = counties_gdf.to_json(),\n",
    "    styledict = style_dict,\n",
    ").add_to(slider_map)\n",
    "\n",
    "_ = cmap.add_to(slider_map)\n",
    "cmap.caption = \"Percentage Change in Movement\"\n",
    "\n",
    "slider_map"
   ]
  },
  {
   "cell_type": "code",
   "execution_count": null,
   "metadata": {},
   "outputs": [],
   "source": [
    "fig = go.Figure()\n",
    "for Region in np.unique(sa['polygon_name']):\n",
    "    #if Region in to_show:\n",
    "    fig.add_trace(go.Scatter(\n",
    "        x=sa[sa.polygon_name==Region].ds,\n",
    "        y=sa[sa.polygon_name==Region].all_day_bing_tiles_visited_relative_change, \n",
    "        mode='lines+markers', name=str(Region)))\n",
    "\n",
    "fig.update_layout(title='Movement Range during COVID outbreak<br>South Africa', xaxis_title='Time', \n",
    "                   yaxis_title='Percentage Change', legend_title=\"<b>Municipalities</b>\",)\n",
    "pycs.plot(fig, auto_open=False)\n",
    "#fig.show()"
   ]
  },
  {
   "cell_type": "code",
   "execution_count": null,
   "metadata": {},
   "outputs": [],
   "source": [
    "#cleaned_sort_sa.to_csv('covid_sa.csv', index=False)"
   ]
  },
  {
   "cell_type": "code",
   "execution_count": null,
   "metadata": {},
   "outputs": [],
   "source": []
  }
 ],
 "metadata": {
  "kernelspec": {
   "display_name": "Python 3",
   "language": "python",
   "name": "python3"
  },
  "language_info": {
   "codemirror_mode": {
    "name": "ipython",
    "version": 3
   },
   "file_extension": ".py",
   "mimetype": "text/x-python",
   "name": "python",
   "nbconvert_exporter": "python",
   "pygments_lexer": "ipython3",
   "version": "3.7.6"
  }
 },
 "nbformat": 4,
 "nbformat_minor": 4
}
